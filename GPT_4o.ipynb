{
  "nbformat": 4,
  "nbformat_minor": 0,
  "metadata": {
    "colab": {
      "provenance": []
    },
    "kernelspec": {
      "name": "python3",
      "display_name": "Python 3"
    },
    "language_info": {
      "name": "python"
    }
  },
  "cells": [
    {
      "cell_type": "markdown",
      "source": [
        " It scored 82% in MMLU and is currently outranking GPT-4 in the LMSYS leaderboard chat. It is priced at 15 cents per million input tokens and 60 cents per million output tokens, an order of magnitude more affordable than previous models and over 60% cheaper than GPT-3.5 Turbo."
      ],
      "metadata": {
        "id": "OUH-0vjImOVu"
      }
    },
    {
      "cell_type": "markdown",
      "source": [
        "Currently, GPT-4o mini supports text and vision in its API, with text, image, video, and audio input and output planned for the future. The model has a context window of 128K tokens , supports up to 16K output tokens per request , and has knowledge until October 2023. Thanks to an improved tokenizer shared with GPT-4o, processing non-English text is now even more cost-effective."
      ],
      "metadata": {
        "id": "KMo2HE22mU1T"
      }
    },
    {
      "cell_type": "markdown",
      "source": [
        "Safety is built into our models from the beginning and is reinforced at every stage of the development process. Pre-training involves filtering out information that we don't want our models to learn or output, such as hate speech, adult content, sites that primarily aggregate personal information, and spam. Post-training involves using techniques such as 'RLHF' to align model behavior with policies and improve the accuracy and reliability of our model responses.\n",
        "\n",
        "GPT-4o mini incorporates the same safety measures as GPT-4o, and we have carefully evaluated it using both automated and human evaluation, following OpenAI's readiness framework and voluntary initiatives. Over 70 external experts in fields such as social psychology and misinformation tested GPT-4o to identify potential risks, which we have addressed and will share details in our upcoming GPT-4o System Card and Readiness Scorecard. Insights from these expert evaluations have helped us improve the safety of both GPT-4o and GPT-4o mini.\n",
        "\n",
        "Building on these learnings, our team has also worked to improve the safety of GPT-4o mini using new techniques from our research. GPT-4o mini in API is the first model to apply our instruction hierarchy methods, which helps improve the model's ability to resist jailbreaking, prompt injection, and system prompt extraction. This makes the model's responses more trustworthy and safer to use in large-scale apps."
      ],
      "metadata": {
        "id": "NcP-JvPxmhA8"
      }
    },
    {
      "cell_type": "code",
      "execution_count": 1,
      "metadata": {
        "colab": {
          "base_uri": "https://localhost:8080/"
        },
        "id": "-FigU6oISMLC",
        "outputId": "6b832138-19ac-4734-97b1-c5d54333c32f"
      },
      "outputs": [
        {
          "output_type": "stream",
          "name": "stdout",
          "text": [
            "Collecting openai\n",
            "  Downloading openai-1.35.15-py3-none-any.whl (328 kB)\n",
            "\u001b[2K     \u001b[90m━━━━━━━━━━━━━━━━━━━━━━━━━━━━━━━━━━━━━━━━\u001b[0m \u001b[32m328.6/328.6 kB\u001b[0m \u001b[31m2.5 MB/s\u001b[0m eta \u001b[36m0:00:00\u001b[0m\n",
            "\u001b[?25hRequirement already satisfied: anyio<5,>=3.5.0 in /usr/local/lib/python3.10/dist-packages (from openai) (3.7.1)\n",
            "Requirement already satisfied: distro<2,>=1.7.0 in /usr/lib/python3/dist-packages (from openai) (1.7.0)\n",
            "Collecting httpx<1,>=0.23.0 (from openai)\n",
            "  Downloading httpx-0.27.0-py3-none-any.whl (75 kB)\n",
            "\u001b[2K     \u001b[90m━━━━━━━━━━━━━━━━━━━━━━━━━━━━━━━━━━━━━━━━\u001b[0m \u001b[32m75.6/75.6 kB\u001b[0m \u001b[31m6.7 MB/s\u001b[0m eta \u001b[36m0:00:00\u001b[0m\n",
            "\u001b[?25hRequirement already satisfied: pydantic<3,>=1.9.0 in /usr/local/lib/python3.10/dist-packages (from openai) (2.8.2)\n",
            "Requirement already satisfied: sniffio in /usr/local/lib/python3.10/dist-packages (from openai) (1.3.1)\n",
            "Requirement already satisfied: tqdm>4 in /usr/local/lib/python3.10/dist-packages (from openai) (4.66.4)\n",
            "Requirement already satisfied: typing-extensions<5,>=4.7 in /usr/local/lib/python3.10/dist-packages (from openai) (4.12.2)\n",
            "Requirement already satisfied: idna>=2.8 in /usr/local/lib/python3.10/dist-packages (from anyio<5,>=3.5.0->openai) (3.7)\n",
            "Requirement already satisfied: exceptiongroup in /usr/local/lib/python3.10/dist-packages (from anyio<5,>=3.5.0->openai) (1.2.2)\n",
            "Requirement already satisfied: certifi in /usr/local/lib/python3.10/dist-packages (from httpx<1,>=0.23.0->openai) (2024.7.4)\n",
            "Collecting httpcore==1.* (from httpx<1,>=0.23.0->openai)\n",
            "  Downloading httpcore-1.0.5-py3-none-any.whl (77 kB)\n",
            "\u001b[2K     \u001b[90m━━━━━━━━━━━━━━━━━━━━━━━━━━━━━━━━━━━━━━━━\u001b[0m \u001b[32m77.9/77.9 kB\u001b[0m \u001b[31m8.3 MB/s\u001b[0m eta \u001b[36m0:00:00\u001b[0m\n",
            "\u001b[?25hCollecting h11<0.15,>=0.13 (from httpcore==1.*->httpx<1,>=0.23.0->openai)\n",
            "  Downloading h11-0.14.0-py3-none-any.whl (58 kB)\n",
            "\u001b[2K     \u001b[90m━━━━━━━━━━━━━━━━━━━━━━━━━━━━━━━━━━━━━━━━\u001b[0m \u001b[32m58.3/58.3 kB\u001b[0m \u001b[31m5.2 MB/s\u001b[0m eta \u001b[36m0:00:00\u001b[0m\n",
            "\u001b[?25hRequirement already satisfied: annotated-types>=0.4.0 in /usr/local/lib/python3.10/dist-packages (from pydantic<3,>=1.9.0->openai) (0.7.0)\n",
            "Requirement already satisfied: pydantic-core==2.20.1 in /usr/local/lib/python3.10/dist-packages (from pydantic<3,>=1.9.0->openai) (2.20.1)\n",
            "Installing collected packages: h11, httpcore, httpx, openai\n",
            "Successfully installed h11-0.14.0 httpcore-1.0.5 httpx-0.27.0 openai-1.35.15\n"
          ]
        }
      ],
      "source": [
        "!pip install --upgrade openai"
      ]
    },
    {
      "cell_type": "code",
      "source": [
        "!pip list|grep openai"
      ],
      "metadata": {
        "colab": {
          "base_uri": "https://localhost:8080/"
        },
        "id": "RRgFgnBIe5gQ",
        "outputId": "621fb23f-61c7-4103-9b40-c7ad54172b58"
      },
      "execution_count": 2,
      "outputs": [
        {
          "output_type": "stream",
          "name": "stdout",
          "text": [
            "openai                           1.35.15\n"
          ]
        }
      ]
    },
    {
      "cell_type": "code",
      "source": [
        "from google.colab import userdata\n",
        "import os"
      ],
      "metadata": {
        "id": "ijHk08THe67r"
      },
      "execution_count": 3,
      "outputs": []
    },
    {
      "cell_type": "code",
      "source": [
        "os.environ[\"OPENAI_API_KEY\"] = userdata.get('OPENAI_API_KEY')"
      ],
      "metadata": {
        "id": "6k6DQPKge-8w"
      },
      "execution_count": 5,
      "outputs": []
    },
    {
      "cell_type": "code",
      "source": [
        "from openai import OpenAI"
      ],
      "metadata": {
        "id": "Uk-ZBeZRfB_V"
      },
      "execution_count": 6,
      "outputs": []
    },
    {
      "cell_type": "code",
      "source": [
        "## Set the model name\n",
        "MODEL=\"gpt-4o-mini\""
      ],
      "metadata": {
        "id": "FxZRAgQTfLRI"
      },
      "execution_count": 7,
      "outputs": []
    },
    {
      "cell_type": "code",
      "source": [
        "client = OpenAI(api_key=os.environ.get(\"OPENAI_API_KEY\"))\n",
        "\n",
        "completion = client.chat.completions.create(\n",
        "  model=MODEL,\n",
        "  messages=[\n",
        "    {\"role\": \"system\", \"content\": \"You are a helpful assistant. Help me with my questions!\"},\n",
        "    {\"role\": \"user\",\n",
        "     \"content\": \"Write 5 dictionary words where each word starts with letter E and ends with N.\"}\n",
        "  ]\n",
        ")\n",
        "\n",
        "print(\"Assistant: \" + completion.choices[0].message.content)"
      ],
      "metadata": {
        "colab": {
          "base_uri": "https://localhost:8080/"
        },
        "id": "hjyvAHepfPI_",
        "outputId": "157e49e2-9c72-489f-b1b7-c23b7d355bc5"
      },
      "execution_count": 9,
      "outputs": [
        {
          "output_type": "stream",
          "name": "stdout",
          "text": [
            "Assistant: Here are five words that start with the letter \"E\" and end with \"N\":\n",
            "\n",
            "1. Eruption\n",
            "2. Equation\n",
            "3. Emission\n",
            "4. Erosion\n",
            "5. Enclosed\n"
          ]
        }
      ]
    },
    {
      "cell_type": "code",
      "source": [
        "client = OpenAI(api_key=os.environ.get(\"OPENAI_API_KEY\"))\n",
        "\n",
        "completion = client.chat.completions.create(\n",
        "  model=MODEL,\n",
        "  messages=[\n",
        "    {\"role\": \"system\", \"content\": \"You are a helpful assistant. Help me with my questions!\"},\n",
        "    {\"role\": \"user\",\n",
        "     \"content\": \"Give me 5 dictionary words that starts with letter 'E' and ends with letter 'N'.\"}\n",
        "  ]\n",
        ")\n",
        "\n",
        "print(\"Assistant: \" + completion.choices[0].message.content)"
      ],
      "metadata": {
        "colab": {
          "base_uri": "https://localhost:8080/"
        },
        "id": "XOcg8b-QflSb",
        "outputId": "3ef452dd-d525-471e-f431-69f575b797f4"
      },
      "execution_count": 10,
      "outputs": [
        {
          "output_type": "stream",
          "name": "stdout",
          "text": [
            "Assistant: Here are five dictionary words that start with the letter 'E' and end with the letter 'N':\n",
            "\n",
            "1. Education\n",
            "2. Empathen\n",
            "3. Erosion\n",
            "4. Emotion\n",
            "5. Elysian\n",
            "\n",
            "Let me know if you need more help!\n"
          ]
        }
      ]
    },
    {
      "cell_type": "markdown",
      "source": [
        "#### Put in \"\" quotes as highlighted in attention is what u need\n"
      ],
      "metadata": {
        "id": "TNOy7bApj0FI"
      }
    },
    {
      "cell_type": "code",
      "source": [
        "from IPython.display import Image, display, Audio, Markdown\n",
        "import base64"
      ],
      "metadata": {
        "id": "Zft0mgfaimOI"
      },
      "execution_count": 11,
      "outputs": []
    },
    {
      "cell_type": "code",
      "source": [
        "IMAGE_PATH = \"comp motherboard.jpg\""
      ],
      "metadata": {
        "id": "Sbgwsbg9kfon"
      },
      "execution_count": 26,
      "outputs": []
    },
    {
      "cell_type": "code",
      "source": [
        "display(Image(IMAGE_PATH))"
      ],
      "metadata": {
        "colab": {
          "base_uri": "https://localhost:8080/",
          "height": 319
        },
        "id": "8-1-LM1MlgHv",
        "outputId": "e521563e-9faa-41cd-d795-33ef4fe22b79"
      },
      "execution_count": 27,
      "outputs": [
        {
          "output_type": "display_data",
          "data": {
            "image/jpeg": "[encoded data removed]",
            "text/plain": [
              "<IPython.core.display.Image object>"
            ]
          },
          "metadata": {}
        }
      ]
    },
    {
      "cell_type": "code",
      "source": [
        "def encode_image(image_path):\n",
        "    with open(image_path, \"rb\") as image_file:\n",
        "        return base64.b64encode(image_file.read()).decode(\"utf-8\")"
      ],
      "metadata": {
        "id": "Nz-l_h2iliMS"
      },
      "execution_count": 28,
      "outputs": []
    },
    {
      "cell_type": "code",
      "source": [
        "base64_image = encode_image(IMAGE_PATH)"
      ],
      "metadata": {
        "id": "bMLM0ZFglo3g"
      },
      "execution_count": 29,
      "outputs": []
    },
    {
      "cell_type": "code",
      "source": [
        "response = client.chat.completions.create(\n",
        "    model=MODEL,\n",
        "    messages=[\n",
        "        {\"role\": \"system\", \"content\": \"You are a helpful assistant that responds in Markdown. Help me to answer the question!\"},\n",
        "        {\"role\": \"user\", \"content\": [\n",
        "            {\"type\": \"text\", \"text\": \"Can you find out what's wrong in the motherboard? List down all recommendations and next steps.\"},\n",
        "            {\"type\": \"image_url\", \"image_url\": {\n",
        "                \"url\": f\"data:image/png;base64,{base64_image}\"}\n",
        "            }\n",
        "        ]}\n",
        "    ],\n",
        "    temperature=0.1,\n",
        ")"
      ],
      "metadata": {
        "id": "4uqlqA9Dlq67"
      },
      "execution_count": 30,
      "outputs": []
    },
    {
      "cell_type": "code",
      "source": [
        "print(response.choices[0].message.content)"
      ],
      "metadata": {
        "colab": {
          "base_uri": "https://localhost:8080/"
        },
        "id": "LvLTFjPjl0z-",
        "outputId": "bfaf4c46-48d5-4036-f28c-8da68035dc3e"
      },
      "execution_count": 31,
      "outputs": [
        {
          "output_type": "stream",
          "name": "stdout",
          "text": [
            "Based on the image description, it appears that the motherboard has several capacitors that are leaking or showing signs of corrosion. This is a common issue that can lead to various problems with the motherboard's functionality. Here are the recommendations and next steps:\n",
            "\n",
            "### Issues Identified\n",
            "1. **Leaking Capacitors**: The capacitors appear to have brown residue, indicating leakage.\n",
            "2. **Corrosion**: The presence of corrosion can affect electrical connections and overall performance.\n",
            "3. **Potential Damage**: Other components on the motherboard may be affected due to the leaking capacitors.\n",
            "\n",
            "### Recommendations\n",
            "1. **Power Down and Disconnect**: Immediately turn off the computer and disconnect it from the power source to prevent further damage.\n",
            "   \n",
            "2. **Visual Inspection**: Conduct a thorough visual inspection of the motherboard for any additional signs of damage or corrosion on other components.\n",
            "\n",
            "3. **Capacitor Replacement**:\n",
            "   - **Identify Capacitor Specs**: Note the specifications (voltage, capacitance) of the damaged capacitors.\n",
            "   - **Purchase Replacement Capacitors**: Acquire new capacitors that match the specifications.\n",
            "   - **Desolder and Replace**: If you have soldering skills, desolder the damaged capacitors and replace them with new ones. If not, consider seeking professional help.\n",
            "\n",
            "4. **Clean the Area**: Use isopropyl alcohol and a soft brush to clean any corrosion or residue from the motherboard.\n",
            "\n",
            "5. **Check for Additional Damage**: After replacing the capacitors, check for any other damaged components (e.g., traces, connectors).\n",
            "\n",
            "6. **Test the Motherboard**: Reassemble the computer and test the motherboard to see if it functions correctly.\n",
            "\n",
            "7. **Consider Professional Repair**: If you're not comfortable with soldering or if the motherboard shows extensive damage, consider taking it to a professional repair service.\n",
            "\n",
            "8. **Preventive Measures**:\n",
            "   - **Use a Surge Protector**: To protect against power surges that can damage components.\n",
            "   - **Regular Maintenance**: Periodically check for dust buildup and clean the interior of the computer.\n",
            "\n",
            "### Next Steps\n",
            "- **Assess Your Skills**: Determine if you can perform the repairs yourself or if you need professional assistance.\n",
            "- **Gather Tools and Materials**: If proceeding with DIY repairs, gather the necessary tools (soldering iron, multimeter, etc.) and replacement parts.\n",
            "- **Document the Process**: If you choose to repair it yourself, document the process for future reference or troubleshooting.\n",
            "\n",
            "By following these recommendations, you can address the issues with the motherboard effectively.\n"
          ]
        }
      ]
    },
    {
      "cell_type": "markdown",
      "source": [
        "Despite its small size, it is capable of image input.\n",
        "\n",
        "\n",
        "In the future, it is expected to support video and audio input, image output, and more.\n",
        "\n",
        "Image recognition accuracy\n",
        "Image recognition has a certain degree of accuracy, but when logical questions are added, it can become difficult to make an accurate judgment. This may be due to resource distribution.\n",
        "\n",
        "Highly convenient for simple responsesAs\n",
        "an alternative to GPT-3.5 Turbo, this model is convenient for simple responses. It is also superior in terms of cost and speed.\n",
        "\n",
        "\n",
        "It can be difficult to answer questions that require complex logic or steps. Prompt techniques are important to avoid this ."
      ],
      "metadata": {
        "id": "S2CQcpWimEfQ"
      }
    },
    {
      "cell_type": "code",
      "source": [],
      "metadata": {
        "id": "4Ygz0zyyl36H"
      },
      "execution_count": null,
      "outputs": []
    }
  ]
}